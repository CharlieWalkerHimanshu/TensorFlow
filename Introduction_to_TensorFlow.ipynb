{
  "nbformat": 4,
  "nbformat_minor": 0,
  "metadata": {
    "colab": {
      "provenance": [],
      "toc_visible": true,
      "include_colab_link": true
    },
    "kernelspec": {
      "name": "python3",
      "display_name": "Python 3"
    },
    "language_info": {
      "name": "python"
    }
  },
  "cells": [
    {
      "cell_type": "markdown",
      "metadata": {
        "id": "view-in-github",
        "colab_type": "text"
      },
      "source": [
        "<a href=\"https://colab.research.google.com/github/CharlieWalkerHimanshu/TensorFlow/blob/Charlie/Introduction_to_TensorFlow.ipynb\" target=\"_parent\"><img src=\"https://colab.research.google.com/assets/colab-badge.svg\" alt=\"Open In Colab\"/></a>"
      ]
    },
    {
      "cell_type": "markdown",
      "source": [
        "## **Tensors**\n",
        "A tensor is  a generalization of vectors and metrics to potentially higher dimensions. Internally, TensorFlow represents tensors as n-dimesnional arrays of datatypes. (https://www.tensorflow.org/guide)\n",
        "\n",
        "It shouldn't be suprise you that tensors are a fundamental aspect of TensorFlow. They are the main objects that are passed around and manipulated throughout a program. Each tensors represents a partially defined computation that will eventually produce a value. TesnorFlow programs work by building a graph of Tensor objects that details how tensors are related. Running different parts of the graph allow results to generated.\n",
        "\n",
        "Each Tensor has a datatype and a shape.\n",
        "\n",
        "**Data Type include:** float32, int32, string and others.\n",
        "\n",
        "**Shape:** Represents the dimension of data."
      ],
      "metadata": {
        "id": "kBsLjEZmPxon"
      }
    },
    {
      "cell_type": "markdown",
      "source": [
        "## Creating Tensors\n",
        "\n",
        "Below is an example of how to create some different tensors"
      ],
      "metadata": {
        "id": "DEUCcgJFSAjF"
      }
    },
    {
      "cell_type": "code",
      "source": [
        "import tensorflow as tf\n",
        "\n",
        "string = tf.Variable(\"this is a string\", tf.string)\n",
        "number = tf.Variable(324, tf.int16)\n",
        "floating = tf.Variable(3.567, tf.float64)"
      ],
      "metadata": {
        "id": "09hTL5jISP79"
      },
      "execution_count": null,
      "outputs": []
    },
    {
      "cell_type": "markdown",
      "source": [
        "### Rank/Degree if Tensors\n",
        "\n",
        "Another word for rank is"
      ],
      "metadata": {
        "id": "dD5qRqowT2aV"
      }
    },
    {
      "cell_type": "code",
      "source": [
        "rank1_tensor = tf.Variable([\"test\"], tf.string)\n",
        "rank2_tensor = tf.Variable([[\"Test\", \"ok\"], [\"test\", \"yes\"]], tf.string)"
      ],
      "metadata": {
        "id": "QILd5JChPuyC"
      },
      "execution_count": null,
      "outputs": []
    },
    {
      "cell_type": "markdown",
      "source": [
        "To determine the rank of a tensor we call the following method"
      ],
      "metadata": {
        "id": "8Mlm1_P93X7h"
      }
    },
    {
      "cell_type": "code",
      "source": [
        "tf.rank(rank2_tensor)"
      ],
      "metadata": {
        "colab": {
          "base_uri": "https://localhost:8080/"
        },
        "id": "q1gkgQVG3AJj",
        "outputId": "3f96eae5-c61f-4dd9-dd93-a03ca4379119"
      },
      "execution_count": null,
      "outputs": [
        {
          "output_type": "execute_result",
          "data": {
            "text/plain": [
              "<tf.Tensor: shape=(), dtype=int32, numpy=2>"
            ]
          },
          "metadata": {},
          "execution_count": 5
        }
      ]
    },
    {
      "cell_type": "markdown",
      "source": [
        "### Shape of Tensors\n",
        "\n",
        "Now that we've talked about the rank of tensors it's time to talk about the shape. The shape of a tensor is simply the amount of elementsthat exist in each dimension. TensorFlow will try to determine the shape of a tensor ut sometimes it may be unknown.\n",
        "\n",
        "To get the shape of a tensor we use the shape attribute."
      ],
      "metadata": {
        "id": "GqNvQTd34BZx"
      }
    },
    {
      "cell_type": "code",
      "source": [
        "rank2_tensor.shape"
      ],
      "metadata": {
        "id": "qLXLgmAePu3i",
        "colab": {
          "base_uri": "https://localhost:8080/"
        },
        "outputId": "aa0c5091-dd00-4e87-a8e9-04cd71015005"
      },
      "execution_count": null,
      "outputs": [
        {
          "output_type": "execute_result",
          "data": {
            "text/plain": [
              "TensorShape([2, 2])"
            ]
          },
          "metadata": {},
          "execution_count": 7
        }
      ]
    },
    {
      "cell_type": "markdown",
      "source": [
        "### Changing Shape\n",
        "\n",
        "The number of elements of a tensor is the product of the sizes of all it's shapes. there are oftern many shapes that have the same number of elements, making it convenient to be able to change the shape of a tensor\n",
        "\n",
        "The example below shows how to change the shape of a tensor."
      ],
      "metadata": {
        "id": "MdjVpoiz7tD7"
      }
    },
    {
      "cell_type": "code",
      "source": [],
      "metadata": {
        "id": "reGEv39tPu7c"
      },
      "execution_count": null,
      "outputs": []
    },
    {
      "cell_type": "code",
      "source": [],
      "metadata": {
        "id": "dnmtsLslPu91"
      },
      "execution_count": null,
      "outputs": []
    },
    {
      "cell_type": "code",
      "source": [],
      "metadata": {
        "id": "JeOev9YsPvA0"
      },
      "execution_count": null,
      "outputs": []
    },
    {
      "cell_type": "code",
      "source": [],
      "metadata": {
        "id": "1hVuIgdZPvEB"
      },
      "execution_count": null,
      "outputs": []
    },
    {
      "cell_type": "code",
      "source": [],
      "metadata": {
        "id": "Z3TqQNdePvG-"
      },
      "execution_count": null,
      "outputs": []
    },
    {
      "cell_type": "code",
      "source": [],
      "metadata": {
        "id": "NVLZnpDaPvJT"
      },
      "execution_count": null,
      "outputs": []
    }
  ]
}