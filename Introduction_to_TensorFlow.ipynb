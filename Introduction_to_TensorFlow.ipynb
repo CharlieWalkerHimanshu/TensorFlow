{
  "nbformat": 4,
  "nbformat_minor": 0,
  "metadata": {
    "colab": {
      "provenance": [],
      "toc_visible": true,
      "authorship_tag": "ABX9TyOo0fUixH5SIm05R3MHQOnt",
      "include_colab_link": true
    },
    "kernelspec": {
      "name": "python3",
      "display_name": "Python 3"
    },
    "language_info": {
      "name": "python"
    }
  },
  "cells": [
    {
      "cell_type": "markdown",
      "metadata": {
        "id": "view-in-github",
        "colab_type": "text"
      },
      "source": [
        "<a href=\"https://colab.research.google.com/github/CharlieWalkerHimanshu/TensorFlow/blob/Himanshu/Introduction_to_TensorFlow.ipynb\" target=\"_parent\"><img src=\"https://colab.research.google.com/assets/colab-badge.svg\" alt=\"Open In Colab\"/></a>"
      ]
    },
    {
      "cell_type": "markdown",
      "source": [
        "## **Tensors**\n",
        "A tensor is  a generalization of vectors and metrics to potentially higher dimensions. Internally, TensorFlow represents tensors as n-dimesnional arrays of datatypes. (https://www.tensorflow.org/guide)\n",
        "\n",
        "It shouldn't be suprise you that tensors are a fundamental aspect of TensorFlow. They are the main objects that are passed around and manipulated throughout a program. Each tensors represents a partially defined computation that will eventually produce a value. TesnorFlow programs work by building a graph of Tensor objects that details how tensors are related. Running different parts of the graph allow results to generated.\n",
        "\n",
        "Each Tensor has a datatype and a shape.\n",
        "\n",
        "**Data Type include:** float32, int32, string and others.\n",
        "\n",
        "**Shape:** Represents the dimension of data."
      ],
      "metadata": {
        "id": "kBsLjEZmPxon"
      }
    },
    {
      "cell_type": "markdown",
      "source": [
        "## Creating Tensors\n",
        "\n",
        "Below is an example of how to create some different tensors"
      ],
      "metadata": {
        "id": "DEUCcgJFSAjF"
      }
    },
    {
      "cell_type": "code",
      "source": [
        "import tensorflow as tf\n",
        "\n",
        "string = tf.Variable(\"this is a string\", tf.string)\n",
        "number = tf.Variable(324, tf.int16)\n",
        "floating = tf.Variable(3.567, tf.float64)"
      ],
      "metadata": {
        "id": "09hTL5jISP79"
      },
      "execution_count": 6,
      "outputs": []
    },
    {
      "cell_type": "markdown",
      "source": [
        "### Rank/Degree if Tensors\n",
        "\n",
        "Another word for rank is"
      ],
      "metadata": {
        "id": "dD5qRqowT2aV"
      }
    },
    {
      "cell_type": "code",
      "source": [],
      "metadata": {
        "id": "QILd5JChPuyC"
      },
      "execution_count": null,
      "outputs": []
    },
    {
      "cell_type": "code",
      "source": [],
      "metadata": {
        "id": "wAoMbmYRPu1T"
      },
      "execution_count": null,
      "outputs": []
    },
    {
      "cell_type": "code",
      "source": [],
      "metadata": {
        "id": "qLXLgmAePu3i"
      },
      "execution_count": null,
      "outputs": []
    },
    {
      "cell_type": "code",
      "source": [],
      "metadata": {
        "id": "reGEv39tPu7c"
      },
      "execution_count": null,
      "outputs": []
    },
    {
      "cell_type": "code",
      "source": [],
      "metadata": {
        "id": "dnmtsLslPu91"
      },
      "execution_count": null,
      "outputs": []
    },
    {
      "cell_type": "code",
      "source": [],
      "metadata": {
        "id": "JeOev9YsPvA0"
      },
      "execution_count": null,
      "outputs": []
    },
    {
      "cell_type": "code",
      "source": [],
      "metadata": {
        "id": "1hVuIgdZPvEB"
      },
      "execution_count": null,
      "outputs": []
    },
    {
      "cell_type": "code",
      "source": [],
      "metadata": {
        "id": "Z3TqQNdePvG-"
      },
      "execution_count": null,
      "outputs": []
    },
    {
      "cell_type": "code",
      "source": [],
      "metadata": {
        "id": "NVLZnpDaPvJT"
      },
      "execution_count": null,
      "outputs": []
    }
  ]
}