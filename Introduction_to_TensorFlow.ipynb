{
  "nbformat": 4,
  "nbformat_minor": 0,
  "metadata": {
    "colab": {
      "provenance": [],
      "toc_visible": true,
      "include_colab_link": true
    },
    "kernelspec": {
      "name": "python3",
      "display_name": "Python 3"
    },
    "language_info": {
      "name": "python"
    }
  },
  "cells": [
    {
      "cell_type": "markdown",
      "metadata": {
        "id": "view-in-github",
        "colab_type": "text"
      },
      "source": [
        "<a href=\"https://colab.research.google.com/github/CharlieWalkerHimanshu/TensorFlow/blob/Charlie/Introduction_to_TensorFlow.ipynb\" target=\"_parent\"><img src=\"https://colab.research.google.com/assets/colab-badge.svg\" alt=\"Open In Colab\"/></a>"
      ]
    },
    {
      "cell_type": "markdown",
      "source": [
        "## **Tensors**\n",
        "A tensor is  a generalization of vectors and metrics to potentially higher dimensions. Internally, TensorFlow represents tensors as n-dimesnional arrays of datatypes. (https://www.tensorflow.org/guide)\n",
        "\n",
        "It shouldn't be suprise you that tensors are a fundamental aspect of TensorFlow. They are the main objects that are passed around and manipulated throughout a program. Each tensors represents a partially defined computation that will eventually produce a value. TesnorFlow programs work by building a graph of Tensor objects that details how tensors are related. Running different parts of the graph allow results to generated.\n",
        "\n",
        "Each Tensor has a datatype and a shape.\n",
        "\n",
        "**Data Type include:** float32, int32, string and others.\n",
        "\n",
        "**Shape:** Represents the dimension of data."
      ],
      "metadata": {
        "id": "kBsLjEZmPxon"
      }
    },
    {
      "cell_type": "markdown",
      "source": [
        "## Creating Tensors\n",
        "\n",
        "Below is an example of how to create some different tensors"
      ],
      "metadata": {
        "id": "DEUCcgJFSAjF"
      }
    },
    {
      "cell_type": "code",
      "source": [
        "import tensorflow as tf\n",
        "\n",
        "string = tf.Variable(\"this is a string\", tf.string)\n",
        "number = tf.Variable(324, tf.int16)\n",
        "floating = tf.Variable(3.567, tf.float64)"
      ],
      "metadata": {
        "id": "09hTL5jISP79"
      },
      "execution_count": 2,
      "outputs": []
    },
    {
      "cell_type": "markdown",
      "source": [
        "### Rank/Degree if Tensors\n",
        "\n",
        "Another word for a rank is, these terms simply mean the number of dimensions involved in the tensor. What we created above is a tensor of rank 0, also known as a scalar.\n",
        "\n",
        "Now we'll create some tensors of higher degrees/ranks."
      ],
      "metadata": {
        "id": "dD5qRqowT2aV"
      }
    },
    {
      "cell_type": "code",
      "source": [
        "rank1_tensor = tf.Variable([\"test\"], tf.string)\n",
        "rank2_tensor = tf.Variable([[\"Test\", \"ok\"], [\"test\", \"yes\"]], tf.string)"
      ],
      "metadata": {
        "id": "QILd5JChPuyC"
      },
      "execution_count": 3,
      "outputs": []
    },
    {
      "cell_type": "markdown",
      "source": [
        "To determine the rank of a tensor we call the following method"
      ],
      "metadata": {
        "id": "8Mlm1_P93X7h"
      }
    },
    {
      "cell_type": "code",
      "source": [
        "tf.rank(rank2_tensor)"
      ],
      "metadata": {
        "colab": {
          "base_uri": "https://localhost:8080/"
        },
        "id": "q1gkgQVG3AJj",
        "outputId": "c146e5b6-b657-4442-a117-08551ef7c1a5"
      },
      "execution_count": 4,
      "outputs": [
        {
          "output_type": "execute_result",
          "data": {
            "text/plain": [
              "<tf.Tensor: shape=(), dtype=int32, numpy=2>"
            ]
          },
          "metadata": {},
          "execution_count": 4
        }
      ]
    },
    {
      "cell_type": "markdown",
      "source": [
        "### Shape of Tensors\n",
        "\n",
        "Now that we've talked about the rank of tensors it's time to talk about the shape. The shape of a tensor is simply the amount of elementsthat exist in each dimension. TensorFlow will try to determine the shape of a tensor ut sometimes it may be unknown.\n",
        "\n",
        "To get the shape of a tensor we use the shape attribute."
      ],
      "metadata": {
        "id": "GqNvQTd34BZx"
      }
    },
    {
      "cell_type": "code",
      "source": [
        "rank2_tensor.shape"
      ],
      "metadata": {
        "id": "qLXLgmAePu3i",
        "colab": {
          "base_uri": "https://localhost:8080/"
        },
        "outputId": "cf3f1f59-18b7-4347-fa35-4d3efdc5715b"
      },
      "execution_count": 5,
      "outputs": [
        {
          "output_type": "execute_result",
          "data": {
            "text/plain": [
              "TensorShape([2, 2])"
            ]
          },
          "metadata": {},
          "execution_count": 5
        }
      ]
    },
    {
      "cell_type": "markdown",
      "source": [
        "### Changing Shape\n",
        "\n",
        "The number of elements of a tensor is the product of the sizes of all it's shapes. there are oftern many shapes that have the same number of elements, making it convenient to be able to change the shape of a tensor\n",
        "\n",
        "The example below shows how to change the shape of a tensor."
      ],
      "metadata": {
        "id": "MdjVpoiz7tD7"
      }
    },
    {
      "cell_type": "code",
      "source": [
        "tensor1 = tf.ones([1,2,3]) # tf.ones() creates a shape [1,2,3] tensor full of ones\n",
        "tensor2 = tf.reshape(tensor1, [2,3,1]) # reshape existing data to shape [2,3,1]\n",
        "tensor3 = tf.reshape(tensor2, [3, -1]) #-1 tells the tensor to calculate the size of the dimension in that place\n",
        "                                      # this will reshape the tensor to [3,3]\n",
        "\n",
        "# The numer of elements in the reshaped tensor MUST match the number in the original"
      ],
      "metadata": {
        "id": "reGEv39tPu7c"
      },
      "execution_count": 6,
      "outputs": []
    },
    {
      "cell_type": "markdown",
      "source": [
        "Now let's have a look at our different tensors."
      ],
      "metadata": {
        "id": "OeiF8xj929_E"
      }
    },
    {
      "cell_type": "code",
      "source": [
        "print(tensor1)\n",
        "print(tensor2)\n",
        "print(tensor3)\n",
        "#notice the changes the shape"
      ],
      "metadata": {
        "id": "dnmtsLslPu91",
        "colab": {
          "base_uri": "https://localhost:8080/"
        },
        "outputId": "f746a34c-c491-4140-e31b-78af0d1347fe"
      },
      "execution_count": 7,
      "outputs": [
        {
          "output_type": "stream",
          "name": "stdout",
          "text": [
            "tf.Tensor(\n",
            "[[[1. 1. 1.]\n",
            "  [1. 1. 1.]]], shape=(1, 2, 3), dtype=float32)\n",
            "tf.Tensor(\n",
            "[[[1.]\n",
            "  [1.]\n",
            "  [1.]]\n",
            "\n",
            " [[1.]\n",
            "  [1.]\n",
            "  [1.]]], shape=(2, 3, 1), dtype=float32)\n",
            "tf.Tensor(\n",
            "[[1. 1.]\n",
            " [1. 1.]\n",
            " [1. 1.]], shape=(3, 2), dtype=float32)\n"
          ]
        }
      ]
    },
    {
      "cell_type": "markdown",
      "source": [
        "### **Slicing Tensors**\n",
        "You may be familiar with the term \"slice\" in python and its use on lists, tuples etc. Well the slice operator can be used on tensors to select specific axes or elements.\n",
        "\n",
        "When we slice or select elements from a tensor, we can use comma seperated values inside the set of square brackets. Each subsequent value refrences a different dimension of the tensor.\n",
        "\n",
        "Ex: tensor[dim1, dim2, dim3]\n",
        "\n",
        "I've included a few examples that will hopefully help illustrate how we can manipulate tensors with the slice operator."
      ],
      "metadata": {
        "id": "DB5t0wN84ckv"
      }
    },
    {
      "cell_type": "code",
      "source": [
        "#creating a 2d tensor\n",
        "matrix = [[1,2,3,4,5],\n",
        "          [6,7,8,9,10],\n",
        "          [11,12,13,14,15],\n",
        "          [16,17,18,19,20]]\n",
        "\n",
        "tensor = tf.Variable(matrix, dtype=tf.int32)\n",
        "print(tf.rank(tensor))\n",
        "print(tensor.shape)"
      ],
      "metadata": {
        "id": "JeOev9YsPvA0",
        "colab": {
          "base_uri": "https://localhost:8080/"
        },
        "outputId": "b65b6ed5-87c9-4640-b8fc-c1c1e1c19d63"
      },
      "execution_count": 8,
      "outputs": [
        {
          "output_type": "stream",
          "name": "stdout",
          "text": [
            "tf.Tensor(2, shape=(), dtype=int32)\n",
            "(4, 5)\n"
          ]
        }
      ]
    },
    {
      "cell_type": "code",
      "source": [
        "#now lets select some different rows and columns from our tensor\n",
        "\n",
        "three = tensor[0,2] # selects the 3rd element from 1st row\n",
        "print(three) # -> 3\n",
        "\n",
        "row1 = tensor[0] # selects the first row\n",
        "print(row1)\n",
        "\n",
        "column1 = tensor[:, 0] # selects the first column\n",
        "print(column1)\n",
        "\n",
        "row_2_and_4 = tensor[1::2] # selects second and fourth row\n",
        "print(row_2_and_4)\n",
        "\n",
        "column_1_in_row_2_and_3 = tensor[1:3, 0]\n",
        "print(column_1_in_row_2_and_3)"
      ],
      "metadata": {
        "id": "1hVuIgdZPvEB",
        "colab": {
          "base_uri": "https://localhost:8080/"
        },
        "outputId": "23b42c58-63c7-4f32-af0e-ff0fcfac597e"
      },
      "execution_count": 9,
      "outputs": [
        {
          "output_type": "stream",
          "name": "stdout",
          "text": [
            "tf.Tensor(3, shape=(), dtype=int32)\n",
            "tf.Tensor([1 2 3 4 5], shape=(5,), dtype=int32)\n",
            "tf.Tensor([ 1  6 11 16], shape=(4,), dtype=int32)\n",
            "tf.Tensor(\n",
            "[[ 6  7  8  9 10]\n",
            " [16 17 18 19 20]], shape=(2, 5), dtype=int32)\n",
            "tf.Tensor([ 6 11], shape=(2,), dtype=int32)\n"
          ]
        }
      ]
    },
    {
      "cell_type": "markdown",
      "source": [
        "### **Types of Tensors**\n",
        "Before we go to far, I will mention that there are diffent types of tensors. These are the most used and we will talk more in depth about each as they are used.\n",
        "\n",
        "*   Variable\n",
        "*   Constant\n",
        "*   Placeholder\n",
        "*   SparseTensor\n",
        "\n",
        "With the execption of Variable all these tensors are immuttable, meaning their value may not change during execution.\n",
        "\n",
        "For now, it is enough to understand that we use the Variable tensor when we want to potentially change the value of our tensor.\n",
        "\n",
        "### **Sources**\n",
        "Most of the information is taken direclty from the TensorFlow website which can be found below.\n",
        "\n",
        "https://www.tensorflow.org/guide/tensor"
      ],
      "metadata": {
        "id": "tZWkAZl4612z"
      }
    }
  ]
}